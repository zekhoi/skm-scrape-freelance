{
 "cells": [
  {
   "cell_type": "code",
   "execution_count": 1,
   "id": "9fc310ec",
   "metadata": {},
   "outputs": [],
   "source": [
    "# Import libs\n",
    "\n",
    "import requests as req\n",
    "from bs4 import BeautifulSoup as bs\n",
    "import csv\n",
    "import pandas as pd"
   ]
  },
  {
   "cell_type": "code",
   "execution_count": 2,
   "id": "7f0aaeb8",
   "metadata": {},
   "outputs": [],
   "source": [
    "def getHTML(kelas):\n",
    "  return req.get(\"https://skm.dgip.go.id/index.php/skm/detailkelas/\" + str(kelas)).text"
   ]
  },
  {
   "cell_type": "code",
   "execution_count": 3,
   "id": "5c080a24",
   "metadata": {},
   "outputs": [],
   "source": [
    "classes = [1,2,3,4,5,6,7,8,9,10,11,12,13,14,15,16,17,18,19,20,21,22,23,24]"
   ]
  },
  {
   "cell_type": "code",
   "execution_count": 4,
   "id": "2b7b2e69",
   "metadata": {},
   "outputs": [
    {
     "data": {
      "text/plain": [
       "53"
      ]
     },
     "execution_count": 4,
     "metadata": {},
     "output_type": "execute_result"
    }
   ],
   "source": [
    "file = open(\"skmscrape.csv\",\"w\")\n",
    "writer = csv.writer(file)\n",
    "writer.writerow([\"Nama Barang (Indonesia)\", \"Nama Barang (English)\", \"Kelas\"])"
   ]
  },
  {
   "cell_type": "code",
   "execution_count": 5,
   "id": "632dabb1",
   "metadata": {},
   "outputs": [],
   "source": [
    "for kelas in classes:\n",
    "  html = getHTML(kelas)\n",
    "  parser = bs(html, \"html.parser\")\n",
    "  data = parser.find_all(\"tr\",\"even gradeA\")\n",
    "  for row in data:\n",
    "    barang = row.find_all(\"td\")\n",
    "    nama = barang[0].text\n",
    "    name = barang[1].text\n",
    "    writer.writerow([nama, name, kelas])"
   ]
  },
  {
   "cell_type": "code",
   "execution_count": 6,
   "id": "14ab606b",
   "metadata": {},
   "outputs": [],
   "source": [
    "file.close()"
   ]
  },
  {
   "cell_type": "code",
   "execution_count": 7,
   "id": "375d383e",
   "metadata": {},
   "outputs": [
    {
     "name": "stdout",
     "output_type": "stream",
     "text": [
      "<class 'pandas.core.frame.DataFrame'>\n",
      "RangeIndex: 40950 entries, 0 to 40949\n",
      "Data columns (total 3 columns):\n",
      " #   Column                   Non-Null Count  Dtype \n",
      "---  ------                   --------------  ----- \n",
      " 0   Nama Barang (Indonesia)  40950 non-null  object\n",
      " 1   Nama Barang (English)    40950 non-null  object\n",
      " 2   Kelas                    40950 non-null  int64 \n",
      "dtypes: int64(1), object(2)\n",
      "memory usage: 959.9+ KB\n"
     ]
    }
   ],
   "source": [
    "df = pd.read_csv(\"skmscrape.csv\")\n",
    "df.info()"
   ]
  },
  {
   "cell_type": "code",
   "execution_count": 8,
   "id": "eac18dba",
   "metadata": {},
   "outputs": [
    {
     "data": {
      "text/html": [
       "<div>\n",
       "<style scoped>\n",
       "    .dataframe tbody tr th:only-of-type {\n",
       "        vertical-align: middle;\n",
       "    }\n",
       "\n",
       "    .dataframe tbody tr th {\n",
       "        vertical-align: top;\n",
       "    }\n",
       "\n",
       "    .dataframe thead th {\n",
       "        text-align: right;\n",
       "    }\n",
       "</style>\n",
       "<table border=\"1\" class=\"dataframe\">\n",
       "  <thead>\n",
       "    <tr style=\"text-align: right;\">\n",
       "      <th></th>\n",
       "      <th>Nama Barang (Indonesia)</th>\n",
       "      <th>Nama Barang (English)</th>\n",
       "      <th>Kelas</th>\n",
       "    </tr>\n",
       "  </thead>\n",
       "  <tbody>\n",
       "    <tr>\n",
       "      <th>0</th>\n",
       "      <td>indikator kelembaban kimia dalam bentuk strip,...</td>\n",
       "      <td>chemical humidity indicators in the form of st...</td>\n",
       "      <td>1</td>\n",
       "    </tr>\n",
       "    <tr>\n",
       "      <th>1</th>\n",
       "      <td>penguat kimia untuk karet</td>\n",
       "      <td>chemical intensifiers for rubber</td>\n",
       "      <td>1</td>\n",
       "    </tr>\n",
       "    <tr>\n",
       "      <th>2</th>\n",
       "      <td>zat antara kimia untuk digunakan dalam pembuat...</td>\n",
       "      <td>chemical intermediates for use in the manufact...</td>\n",
       "      <td>1</td>\n",
       "    </tr>\n",
       "    <tr>\n",
       "      <th>3</th>\n",
       "      <td>pupuk majemuk yang dikonversi secara kimia</td>\n",
       "      <td>chemically converted compound fertilizers</td>\n",
       "      <td>1</td>\n",
       "    </tr>\n",
       "    <tr>\n",
       "      <th>4</th>\n",
       "      <td>strip uji yang diolah secara kimia untuk kalib...</td>\n",
       "      <td>chemically treated test strips for calibration...</td>\n",
       "      <td>1</td>\n",
       "    </tr>\n",
       "  </tbody>\n",
       "</table>\n",
       "</div>"
      ],
      "text/plain": [
       "                             Nama Barang (Indonesia)  \\\n",
       "0  indikator kelembaban kimia dalam bentuk strip,...   \n",
       "1                          penguat kimia untuk karet   \n",
       "2  zat antara kimia untuk digunakan dalam pembuat...   \n",
       "3         pupuk majemuk yang dikonversi secara kimia   \n",
       "4  strip uji yang diolah secara kimia untuk kalib...   \n",
       "\n",
       "                               Nama Barang (English)  Kelas  \n",
       "0  chemical humidity indicators in the form of st...      1  \n",
       "1                   chemical intensifiers for rubber      1  \n",
       "2  chemical intermediates for use in the manufact...      1  \n",
       "3          chemically converted compound fertilizers      1  \n",
       "4  chemically treated test strips for calibration...      1  "
      ]
     },
     "execution_count": 8,
     "metadata": {},
     "output_type": "execute_result"
    }
   ],
   "source": [
    "df.head()"
   ]
  },
  {
   "cell_type": "code",
   "execution_count": 9,
   "id": "042bdabe",
   "metadata": {},
   "outputs": [
    {
     "data": {
      "text/html": [
       "<div>\n",
       "<style scoped>\n",
       "    .dataframe tbody tr th:only-of-type {\n",
       "        vertical-align: middle;\n",
       "    }\n",
       "\n",
       "    .dataframe tbody tr th {\n",
       "        vertical-align: top;\n",
       "    }\n",
       "\n",
       "    .dataframe thead th {\n",
       "        text-align: right;\n",
       "    }\n",
       "</style>\n",
       "<table border=\"1\" class=\"dataframe\">\n",
       "  <thead>\n",
       "    <tr style=\"text-align: right;\">\n",
       "      <th></th>\n",
       "      <th>Nama Barang (Indonesia)</th>\n",
       "      <th>Nama Barang (English)</th>\n",
       "      <th>Kelas</th>\n",
       "    </tr>\n",
       "  </thead>\n",
       "  <tbody>\n",
       "    <tr>\n",
       "      <th>40945</th>\n",
       "      <td>lencana kain</td>\n",
       "      <td>cloth badges</td>\n",
       "      <td>24</td>\n",
       "    </tr>\n",
       "    <tr>\n",
       "      <th>40946</th>\n",
       "      <td>penutup [dari tekstil] untuk diisi dengan pele...</td>\n",
       "      <td>covers to be filled with polystyrene pellets t...</td>\n",
       "      <td>24</td>\n",
       "    </tr>\n",
       "    <tr>\n",
       "      <th>40947</th>\n",
       "      <td>Kain mori</td>\n",
       "      <td>-</td>\n",
       "      <td>24</td>\n",
       "    </tr>\n",
       "    <tr>\n",
       "      <th>40948</th>\n",
       "      <td>bahan kain wol</td>\n",
       "      <td>woollen fabric</td>\n",
       "      <td>24</td>\n",
       "    </tr>\n",
       "    <tr>\n",
       "      <th>40949</th>\n",
       "      <td>kain tenun untuk perabotan</td>\n",
       "      <td>woven fabrics for furniture</td>\n",
       "      <td>24</td>\n",
       "    </tr>\n",
       "  </tbody>\n",
       "</table>\n",
       "</div>"
      ],
      "text/plain": [
       "                                 Nama Barang (Indonesia)  \\\n",
       "40945                                       lencana kain   \n",
       "40946  penutup [dari tekstil] untuk diisi dengan pele...   \n",
       "40947                                          Kain mori   \n",
       "40948                                     bahan kain wol   \n",
       "40949                         kain tenun untuk perabotan   \n",
       "\n",
       "                                   Nama Barang (English)  Kelas  \n",
       "40945                                       cloth badges     24  \n",
       "40946  covers to be filled with polystyrene pellets t...     24  \n",
       "40947                                                  -     24  \n",
       "40948                                     woollen fabric     24  \n",
       "40949                        woven fabrics for furniture     24  "
      ]
     },
     "execution_count": 9,
     "metadata": {},
     "output_type": "execute_result"
    }
   ],
   "source": [
    "df.tail()"
   ]
  }
 ],
 "metadata": {
  "kernelspec": {
   "display_name": "Python 3 (ipykernel)",
   "language": "python",
   "name": "python3"
  },
  "language_info": {
   "codemirror_mode": {
    "name": "ipython",
    "version": 3
   },
   "file_extension": ".py",
   "mimetype": "text/x-python",
   "name": "python",
   "nbconvert_exporter": "python",
   "pygments_lexer": "ipython3",
   "version": "3.8.10"
  }
 },
 "nbformat": 4,
 "nbformat_minor": 5
}
